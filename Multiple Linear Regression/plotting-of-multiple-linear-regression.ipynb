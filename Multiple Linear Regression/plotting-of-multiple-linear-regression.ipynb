{
 "cells": [
  {
   "cell_type": "code",
   "execution_count": 2,
   "metadata": {},
   "outputs": [],
   "source": [
    "import pandas as pd \n",
    "import numpy as np \n",
    "\n",
    "import plotly.express as px\n",
    "import plotly.graph_objects as go\n",
    "\n",
    "from sklearn.datasets import make_regression\n",
    "from sklearn.metrics import mean_absolute_error,mean_squared_error,r2_score"
   ]
  },
  {
   "cell_type": "code",
   "execution_count": 11,
   "metadata": {},
   "outputs": [],
   "source": [
    "X,y = make_regression(n_samples=100, n_features=2, n_informative=2, n_targets=1, noise=50)"
   ]
  },
  {
   "cell_type": "code",
   "execution_count": 12,
   "metadata": {},
   "outputs": [],
   "source": [
    "df = pd.DataFrame({'feature1':X[:,0],'feature2':X[:,1],'target':y})"
   ]
  },
  {
   "cell_type": "code",
   "execution_count": 13,
   "metadata": {},
   "outputs": [
    {
     "data": {
      "text/plain": [
       "(100, 3)"
      ]
     },
     "execution_count": 13,
     "metadata": {},
     "output_type": "execute_result"
    }
   ],
   "source": [
    "df.shape"
   ]
  },
  {
   "cell_type": "code",
   "execution_count": 14,
   "metadata": {},
   "outputs": [
    {
     "data": {
      "text/html": [
       "<div>\n",
       "<style scoped>\n",
       "    .dataframe tbody tr th:only-of-type {\n",
       "        vertical-align: middle;\n",
       "    }\n",
       "\n",
       "    .dataframe tbody tr th {\n",
       "        vertical-align: top;\n",
       "    }\n",
       "\n",
       "    .dataframe thead th {\n",
       "        text-align: right;\n",
       "    }\n",
       "</style>\n",
       "<table border=\"1\" class=\"dataframe\">\n",
       "  <thead>\n",
       "    <tr style=\"text-align: right;\">\n",
       "      <th></th>\n",
       "      <th>feature1</th>\n",
       "      <th>feature2</th>\n",
       "      <th>target</th>\n",
       "    </tr>\n",
       "  </thead>\n",
       "  <tbody>\n",
       "    <tr>\n",
       "      <th>0</th>\n",
       "      <td>-1.519492</td>\n",
       "      <td>-0.988470</td>\n",
       "      <td>-68.748978</td>\n",
       "    </tr>\n",
       "    <tr>\n",
       "      <th>1</th>\n",
       "      <td>0.008656</td>\n",
       "      <td>0.618796</td>\n",
       "      <td>-11.072261</td>\n",
       "    </tr>\n",
       "    <tr>\n",
       "      <th>2</th>\n",
       "      <td>-1.599398</td>\n",
       "      <td>-0.510874</td>\n",
       "      <td>-94.064326</td>\n",
       "    </tr>\n",
       "    <tr>\n",
       "      <th>3</th>\n",
       "      <td>0.729685</td>\n",
       "      <td>0.493292</td>\n",
       "      <td>-26.374524</td>\n",
       "    </tr>\n",
       "    <tr>\n",
       "      <th>4</th>\n",
       "      <td>0.524244</td>\n",
       "      <td>-0.124623</td>\n",
       "      <td>35.237527</td>\n",
       "    </tr>\n",
       "  </tbody>\n",
       "</table>\n",
       "</div>"
      ],
      "text/plain": [
       "   feature1  feature2     target\n",
       "0 -1.519492 -0.988470 -68.748978\n",
       "1  0.008656  0.618796 -11.072261\n",
       "2 -1.599398 -0.510874 -94.064326\n",
       "3  0.729685  0.493292 -26.374524\n",
       "4  0.524244 -0.124623  35.237527"
      ]
     },
     "execution_count": 14,
     "metadata": {},
     "output_type": "execute_result"
    }
   ],
   "source": [
    "df.head()"
   ]
  },
  {
   "cell_type": "code",
   "execution_count": 15,
   "metadata": {},
   "outputs": [
    {
     "data": {
      "application/vnd.plotly.v1+json": {
       "config": {
        "plotlyServerURL": "https://plot.ly"
       },
       "data": [
        {
         "hovertemplate": "feature1=%{x}<br>feature2=%{y}<br>target=%{z}<extra></extra>",
         "legendgroup": "",
         "marker": {
          "color": "#636efa",
          "symbol": "circle"
         },
         "mode": "markers",
         "name": "",
         "scene": "scene",
         "showlegend": false,
         "type": "scatter3d",
         "x": [
          -1.5194915709612384,
          0.008655538985324297,
          -1.5993976021565515,
          0.7296848304003019,
          0.5242436426491096,
          0.6458243274051801,
          -0.42976344914434966,
          0.9910134298174671,
          -1.2152334860058585,
          -0.7214398779991776,
          -0.15174660427245096,
          -0.9795059478292099,
          -2.946616582820079,
          0.14887713656267199,
          -0.24666723914491007,
          -0.2399567990306336,
          -0.27768986237797794,
          -1.1094653689149698,
          -0.42297537286142184,
          -1.7803474041294285,
          0.9459368344369549,
          1.8552778182490954,
          -0.43711788640944127,
          0.25527418216546394,
          1.3849867912870086,
          -2.686691672812638,
          0.2264359402937315,
          -1.293696667107359,
          2.2019390198493447,
          0.09933309073847625,
          0.8498008240115805,
          0.4852015230891052,
          0.11046659741943889,
          -0.532907920387049,
          -0.24684348500114883,
          0.6227403427218614,
          0.51897192659506,
          0.6001601665343896,
          0.968499958826542,
          1.0592118014585572,
          -0.6022388503691376,
          1.351725621161631,
          -0.1292845217551093,
          0.10555602708193998,
          3.1630487200034247,
          0.4021725922579583,
          0.5834284512309332,
          0.5354515311760859,
          -0.6316273768487356,
          0.7078043318805676,
          1.6308762997785382,
          1.3590336021962897,
          0.39628663814615883,
          1.895285347721192,
          0.4828926880946008,
          -0.8005441337124867,
          0.2871061890712906,
          -0.6477486595828248,
          0.8190523443566321,
          0.46965567614788745,
          -1.502154390454379,
          0.22750174721498534,
          0.9520291096657811,
          1.1255454292619156,
          -0.172882745639426,
          -0.6576439606673069,
          0.3404735053735641,
          -0.08166914846352086,
          -0.3246697296459719,
          -0.17792668985520171,
          -1.766075042905717,
          -0.2299755250831665,
          0.11674855767243668,
          -1.8673167036607061,
          -0.5619867322244539,
          -0.30602270205244536,
          -1.1670640173003282,
          0.4326557540985538,
          -0.5903213646645129,
          0.7312323134978954,
          1.0193370953987873,
          0.8321836351923341,
          0.3230966196777946,
          0.4166345939445917,
          -0.026662427867566597,
          0.08563727856750745,
          0.6849533010733467,
          -2.8508013481924586,
          0.4500198663658093,
          1.0937508943179608,
          -1.200682546106535,
          0.9206667750845277,
          0.602385794858407,
          -0.7071416955417257,
          -0.3437745325883206,
          -0.07437997392264238,
          0.10779015967757273,
          0.3358706286371951,
          -1.5266975560000706,
          0.03354956565091422
         ],
         "y": [
          -0.9884701817559793,
          0.6187962845992262,
          -0.510874407923831,
          0.4932924714143353,
          -0.12462297113473374,
          1.909642853580862,
          0.22738690462346828,
          -0.7238218072021858,
          1.265799407858983,
          0.49690128990352,
          1.5635244528615255,
          -1.836776918117246,
          0.2565643976025364,
          0.20005566253059323,
          0.09376601835892308,
          0.19259868253866938,
          -1.6977909767108252,
          0.7712560571519923,
          0.8856004645932177,
          0.13856749861470757,
          0.44868769470715286,
          -0.2525131179902515,
          -0.18660874507106198,
          0.4000929842865177,
          2.3885406707206647,
          -0.13781347049529608,
          -1.817781109277948,
          -0.7849641254260002,
          0.8194705905510554,
          0.6234747490526814,
          0.8835445855787462,
          1.2789482041147198,
          -0.002778609711325999,
          0.42514769255035023,
          2.806634266971469,
          2.163001901862094,
          1.1620981896685403,
          0.36360204735493507,
          -0.7497590419035368,
          -0.6629235308638327,
          -0.6497321491286205,
          0.6157221935325179,
          -1.457960134209017,
          0.6254088901652679,
          -1.000941882156593,
          -0.20026940549188693,
          -0.09658023566407099,
          0.5295710731589878,
          0.5834894887330907,
          -1.5542570611411106,
          -0.3048671743657679,
          -1.216033173041617,
          1.508323991256542,
          1.8031250775826078,
          1.192036555086815,
          -0.22836236130071086,
          0.7120991253209897,
          0.6367835592704404,
          -1.2768705200104986,
          -0.46138216144174926,
          -0.14622016208523891,
          -0.5182328795670211,
          -0.27205122971132034,
          0.4591590317767521,
          0.27450374099532326,
          0.34843498504160436,
          -0.5945140833903604,
          0.31182968929575583,
          -0.6551788571787519,
          -0.8692819069086984,
          -0.11791145542757801,
          1.1601223144818094,
          -0.8710654692918448,
          0.14751272224292292,
          0.5834217687047955,
          -0.716911617983807,
          0.11006495297606964,
          -1.9086714467512895,
          -2.002525285668167,
          -1.1149157942178836,
          -0.3551462095146074,
          -0.6059977937571142,
          0.5346337454423058,
          1.1572376723710291,
          0.6382144184628049,
          0.36663398317031537,
          -0.5497024489908348,
          0.22939784339217004,
          0.8879231045819242,
          0.000029802786482525658,
          -1.0817273155537475,
          -0.10237766091216458,
          -1.0770077224723311,
          0.9603869253445452,
          1.5325342490700375,
          -0.4258564238296281,
          0.7809384533071998,
          0.7987885118994392,
          0.4194667211122175,
          0.1272615462545256
         ],
         "z": [
          -68.74897848218188,
          -11.072260784619132,
          -94.06432616454677,
          -26.37452408733091,
          35.23752725840088,
          121.33118656815155,
          1.395616188717268,
          52.650845549679886,
          0.610449989223266,
          -40.496144321286025,
          -87.62814969957243,
          -157.23700737781627,
          -71.81193316806899,
          -38.57919920627117,
          -120.85507722783834,
          72.14787884166319,
          -60.19742879150098,
          -17.533216023339193,
          -64.408236688812,
          14.036732300703946,
          29.670561558128444,
          -83.92029327240267,
          -20.131975733345335,
          -47.745108752161435,
          80.80412358408566,
          -129.45818992581076,
          138.40650369669862,
          -9.314002923428571,
          96.99346416473304,
          27.388096298265403,
          45.642156734914884,
          62.2427650459078,
          -9.701368718300538,
          -122.26976647193784,
          101.39636789097938,
          117.98132910364077,
          4.150454450948537,
          92.45774769596247,
          125.99407760434357,
          4.58525344631288,
          -70.73460643109891,
          35.16437119467957,
          -96.78228408465169,
          8.87310010279537,
          12.166688724285365,
          -33.0510717396846,
          -59.095933939770404,
          -3.8909238966476067,
          -8.904072157867926,
          22.74264752207132,
          85.66058909303462,
          -76.12532632432223,
          16.339961248269933,
          132.70646928872787,
          -60.63483427229308,
          -87.20945368085147,
          -45.14495941907778,
          -1.7003767149836575,
          -33.535470212752216,
          -13.13141135155808,
          -72.50470833709286,
          -37.208352398856235,
          -10.771478315837047,
          -21.369350602800314,
          -1.3550534026354448,
          21.355502776063265,
          37.901649635136216,
          -5.076528950685933,
          -13.235357525820564,
          -63.60155188185399,
          -57.997696239710415,
          48.11461961796658,
          81.23495265564961,
          -87.92911306635023,
          -10.646659161131659,
          -50.15034880839436,
          -12.606616569636603,
          64.03178603164366,
          -52.88165752001715,
          -55.45725447152452,
          33.04086928284745,
          -35.26345280411051,
          -27.068266950021126,
          -15.450183348411336,
          -40.47491502349756,
          -78.04438683631605,
          9.143986111538942,
          -47.54985381628158,
          87.57006528522155,
          14.44856646140882,
          30.293293152366005,
          62.6315748098467,
          -4.6164555946386665,
          26.450192312464154,
          35.1839031022603,
          -45.82334608263296,
          66.47699463902572,
          56.14106170800011,
          -68.10082362773136,
          -120.99972452595127
         ]
        }
       ],
       "layout": {
        "legend": {
         "tracegroupgap": 0
        },
        "margin": {
         "t": 60
        },
        "scene": {
         "domain": {
          "x": [
           0,
           1
          ],
          "y": [
           0,
           1
          ]
         },
         "xaxis": {
          "title": {
           "text": "feature1"
          }
         },
         "yaxis": {
          "title": {
           "text": "feature2"
          }
         },
         "zaxis": {
          "title": {
           "text": "target"
          }
         }
        },
        "template": {
         "data": {
          "bar": [
           {
            "error_x": {
             "color": "#2a3f5f"
            },
            "error_y": {
             "color": "#2a3f5f"
            },
            "marker": {
             "line": {
              "color": "#E5ECF6",
              "width": 0.5
             },
             "pattern": {
              "fillmode": "overlay",
              "size": 10,
              "solidity": 0.2
             }
            },
            "type": "bar"
           }
          ],
          "barpolar": [
           {
            "marker": {
             "line": {
              "color": "#E5ECF6",
              "width": 0.5
             },
             "pattern": {
              "fillmode": "overlay",
              "size": 10,
              "solidity": 0.2
             }
            },
            "type": "barpolar"
           }
          ],
          "carpet": [
           {
            "aaxis": {
             "endlinecolor": "#2a3f5f",
             "gridcolor": "white",
             "linecolor": "white",
             "minorgridcolor": "white",
             "startlinecolor": "#2a3f5f"
            },
            "baxis": {
             "endlinecolor": "#2a3f5f",
             "gridcolor": "white",
             "linecolor": "white",
             "minorgridcolor": "white",
             "startlinecolor": "#2a3f5f"
            },
            "type": "carpet"
           }
          ],
          "choropleth": [
           {
            "colorbar": {
             "outlinewidth": 0,
             "ticks": ""
            },
            "type": "choropleth"
           }
          ],
          "contour": [
           {
            "colorbar": {
             "outlinewidth": 0,
             "ticks": ""
            },
            "colorscale": [
             [
              0,
              "#0d0887"
             ],
             [
              0.1111111111111111,
              "#46039f"
             ],
             [
              0.2222222222222222,
              "#7201a8"
             ],
             [
              0.3333333333333333,
              "#9c179e"
             ],
             [
              0.4444444444444444,
              "#bd3786"
             ],
             [
              0.5555555555555556,
              "#d8576b"
             ],
             [
              0.6666666666666666,
              "#ed7953"
             ],
             [
              0.7777777777777778,
              "#fb9f3a"
             ],
             [
              0.8888888888888888,
              "#fdca26"
             ],
             [
              1,
              "#f0f921"
             ]
            ],
            "type": "contour"
           }
          ],
          "contourcarpet": [
           {
            "colorbar": {
             "outlinewidth": 0,
             "ticks": ""
            },
            "type": "contourcarpet"
           }
          ],
          "heatmap": [
           {
            "colorbar": {
             "outlinewidth": 0,
             "ticks": ""
            },
            "colorscale": [
             [
              0,
              "#0d0887"
             ],
             [
              0.1111111111111111,
              "#46039f"
             ],
             [
              0.2222222222222222,
              "#7201a8"
             ],
             [
              0.3333333333333333,
              "#9c179e"
             ],
             [
              0.4444444444444444,
              "#bd3786"
             ],
             [
              0.5555555555555556,
              "#d8576b"
             ],
             [
              0.6666666666666666,
              "#ed7953"
             ],
             [
              0.7777777777777778,
              "#fb9f3a"
             ],
             [
              0.8888888888888888,
              "#fdca26"
             ],
             [
              1,
              "#f0f921"
             ]
            ],
            "type": "heatmap"
           }
          ],
          "heatmapgl": [
           {
            "colorbar": {
             "outlinewidth": 0,
             "ticks": ""
            },
            "colorscale": [
             [
              0,
              "#0d0887"
             ],
             [
              0.1111111111111111,
              "#46039f"
             ],
             [
              0.2222222222222222,
              "#7201a8"
             ],
             [
              0.3333333333333333,
              "#9c179e"
             ],
             [
              0.4444444444444444,
              "#bd3786"
             ],
             [
              0.5555555555555556,
              "#d8576b"
             ],
             [
              0.6666666666666666,
              "#ed7953"
             ],
             [
              0.7777777777777778,
              "#fb9f3a"
             ],
             [
              0.8888888888888888,
              "#fdca26"
             ],
             [
              1,
              "#f0f921"
             ]
            ],
            "type": "heatmapgl"
           }
          ],
          "histogram": [
           {
            "marker": {
             "pattern": {
              "fillmode": "overlay",
              "size": 10,
              "solidity": 0.2
             }
            },
            "type": "histogram"
           }
          ],
          "histogram2d": [
           {
            "colorbar": {
             "outlinewidth": 0,
             "ticks": ""
            },
            "colorscale": [
             [
              0,
              "#0d0887"
             ],
             [
              0.1111111111111111,
              "#46039f"
             ],
             [
              0.2222222222222222,
              "#7201a8"
             ],
             [
              0.3333333333333333,
              "#9c179e"
             ],
             [
              0.4444444444444444,
              "#bd3786"
             ],
             [
              0.5555555555555556,
              "#d8576b"
             ],
             [
              0.6666666666666666,
              "#ed7953"
             ],
             [
              0.7777777777777778,
              "#fb9f3a"
             ],
             [
              0.8888888888888888,
              "#fdca26"
             ],
             [
              1,
              "#f0f921"
             ]
            ],
            "type": "histogram2d"
           }
          ],
          "histogram2dcontour": [
           {
            "colorbar": {
             "outlinewidth": 0,
             "ticks": ""
            },
            "colorscale": [
             [
              0,
              "#0d0887"
             ],
             [
              0.1111111111111111,
              "#46039f"
             ],
             [
              0.2222222222222222,
              "#7201a8"
             ],
             [
              0.3333333333333333,
              "#9c179e"
             ],
             [
              0.4444444444444444,
              "#bd3786"
             ],
             [
              0.5555555555555556,
              "#d8576b"
             ],
             [
              0.6666666666666666,
              "#ed7953"
             ],
             [
              0.7777777777777778,
              "#fb9f3a"
             ],
             [
              0.8888888888888888,
              "#fdca26"
             ],
             [
              1,
              "#f0f921"
             ]
            ],
            "type": "histogram2dcontour"
           }
          ],
          "mesh3d": [
           {
            "colorbar": {
             "outlinewidth": 0,
             "ticks": ""
            },
            "type": "mesh3d"
           }
          ],
          "parcoords": [
           {
            "line": {
             "colorbar": {
              "outlinewidth": 0,
              "ticks": ""
             }
            },
            "type": "parcoords"
           }
          ],
          "pie": [
           {
            "automargin": true,
            "type": "pie"
           }
          ],
          "scatter": [
           {
            "fillpattern": {
             "fillmode": "overlay",
             "size": 10,
             "solidity": 0.2
            },
            "type": "scatter"
           }
          ],
          "scatter3d": [
           {
            "line": {
             "colorbar": {
              "outlinewidth": 0,
              "ticks": ""
             }
            },
            "marker": {
             "colorbar": {
              "outlinewidth": 0,
              "ticks": ""
             }
            },
            "type": "scatter3d"
           }
          ],
          "scattercarpet": [
           {
            "marker": {
             "colorbar": {
              "outlinewidth": 0,
              "ticks": ""
             }
            },
            "type": "scattercarpet"
           }
          ],
          "scattergeo": [
           {
            "marker": {
             "colorbar": {
              "outlinewidth": 0,
              "ticks": ""
             }
            },
            "type": "scattergeo"
           }
          ],
          "scattergl": [
           {
            "marker": {
             "colorbar": {
              "outlinewidth": 0,
              "ticks": ""
             }
            },
            "type": "scattergl"
           }
          ],
          "scattermapbox": [
           {
            "marker": {
             "colorbar": {
              "outlinewidth": 0,
              "ticks": ""
             }
            },
            "type": "scattermapbox"
           }
          ],
          "scatterpolar": [
           {
            "marker": {
             "colorbar": {
              "outlinewidth": 0,
              "ticks": ""
             }
            },
            "type": "scatterpolar"
           }
          ],
          "scatterpolargl": [
           {
            "marker": {
             "colorbar": {
              "outlinewidth": 0,
              "ticks": ""
             }
            },
            "type": "scatterpolargl"
           }
          ],
          "scatterternary": [
           {
            "marker": {
             "colorbar": {
              "outlinewidth": 0,
              "ticks": ""
             }
            },
            "type": "scatterternary"
           }
          ],
          "surface": [
           {
            "colorbar": {
             "outlinewidth": 0,
             "ticks": ""
            },
            "colorscale": [
             [
              0,
              "#0d0887"
             ],
             [
              0.1111111111111111,
              "#46039f"
             ],
             [
              0.2222222222222222,
              "#7201a8"
             ],
             [
              0.3333333333333333,
              "#9c179e"
             ],
             [
              0.4444444444444444,
              "#bd3786"
             ],
             [
              0.5555555555555556,
              "#d8576b"
             ],
             [
              0.6666666666666666,
              "#ed7953"
             ],
             [
              0.7777777777777778,
              "#fb9f3a"
             ],
             [
              0.8888888888888888,
              "#fdca26"
             ],
             [
              1,
              "#f0f921"
             ]
            ],
            "type": "surface"
           }
          ],
          "table": [
           {
            "cells": {
             "fill": {
              "color": "#EBF0F8"
             },
             "line": {
              "color": "white"
             }
            },
            "header": {
             "fill": {
              "color": "#C8D4E3"
             },
             "line": {
              "color": "white"
             }
            },
            "type": "table"
           }
          ]
         },
         "layout": {
          "annotationdefaults": {
           "arrowcolor": "#2a3f5f",
           "arrowhead": 0,
           "arrowwidth": 1
          },
          "autotypenumbers": "strict",
          "coloraxis": {
           "colorbar": {
            "outlinewidth": 0,
            "ticks": ""
           }
          },
          "colorscale": {
           "diverging": [
            [
             0,
             "#8e0152"
            ],
            [
             0.1,
             "#c51b7d"
            ],
            [
             0.2,
             "#de77ae"
            ],
            [
             0.3,
             "#f1b6da"
            ],
            [
             0.4,
             "#fde0ef"
            ],
            [
             0.5,
             "#f7f7f7"
            ],
            [
             0.6,
             "#e6f5d0"
            ],
            [
             0.7,
             "#b8e186"
            ],
            [
             0.8,
             "#7fbc41"
            ],
            [
             0.9,
             "#4d9221"
            ],
            [
             1,
             "#276419"
            ]
           ],
           "sequential": [
            [
             0,
             "#0d0887"
            ],
            [
             0.1111111111111111,
             "#46039f"
            ],
            [
             0.2222222222222222,
             "#7201a8"
            ],
            [
             0.3333333333333333,
             "#9c179e"
            ],
            [
             0.4444444444444444,
             "#bd3786"
            ],
            [
             0.5555555555555556,
             "#d8576b"
            ],
            [
             0.6666666666666666,
             "#ed7953"
            ],
            [
             0.7777777777777778,
             "#fb9f3a"
            ],
            [
             0.8888888888888888,
             "#fdca26"
            ],
            [
             1,
             "#f0f921"
            ]
           ],
           "sequentialminus": [
            [
             0,
             "#0d0887"
            ],
            [
             0.1111111111111111,
             "#46039f"
            ],
            [
             0.2222222222222222,
             "#7201a8"
            ],
            [
             0.3333333333333333,
             "#9c179e"
            ],
            [
             0.4444444444444444,
             "#bd3786"
            ],
            [
             0.5555555555555556,
             "#d8576b"
            ],
            [
             0.6666666666666666,
             "#ed7953"
            ],
            [
             0.7777777777777778,
             "#fb9f3a"
            ],
            [
             0.8888888888888888,
             "#fdca26"
            ],
            [
             1,
             "#f0f921"
            ]
           ]
          },
          "colorway": [
           "#636efa",
           "#EF553B",
           "#00cc96",
           "#ab63fa",
           "#FFA15A",
           "#19d3f3",
           "#FF6692",
           "#B6E880",
           "#FF97FF",
           "#FECB52"
          ],
          "font": {
           "color": "#2a3f5f"
          },
          "geo": {
           "bgcolor": "white",
           "lakecolor": "white",
           "landcolor": "#E5ECF6",
           "showlakes": true,
           "showland": true,
           "subunitcolor": "white"
          },
          "hoverlabel": {
           "align": "left"
          },
          "hovermode": "closest",
          "mapbox": {
           "style": "light"
          },
          "paper_bgcolor": "white",
          "plot_bgcolor": "#E5ECF6",
          "polar": {
           "angularaxis": {
            "gridcolor": "white",
            "linecolor": "white",
            "ticks": ""
           },
           "bgcolor": "#E5ECF6",
           "radialaxis": {
            "gridcolor": "white",
            "linecolor": "white",
            "ticks": ""
           }
          },
          "scene": {
           "xaxis": {
            "backgroundcolor": "#E5ECF6",
            "gridcolor": "white",
            "gridwidth": 2,
            "linecolor": "white",
            "showbackground": true,
            "ticks": "",
            "zerolinecolor": "white"
           },
           "yaxis": {
            "backgroundcolor": "#E5ECF6",
            "gridcolor": "white",
            "gridwidth": 2,
            "linecolor": "white",
            "showbackground": true,
            "ticks": "",
            "zerolinecolor": "white"
           },
           "zaxis": {
            "backgroundcolor": "#E5ECF6",
            "gridcolor": "white",
            "gridwidth": 2,
            "linecolor": "white",
            "showbackground": true,
            "ticks": "",
            "zerolinecolor": "white"
           }
          },
          "shapedefaults": {
           "line": {
            "color": "#2a3f5f"
           }
          },
          "ternary": {
           "aaxis": {
            "gridcolor": "white",
            "linecolor": "white",
            "ticks": ""
           },
           "baxis": {
            "gridcolor": "white",
            "linecolor": "white",
            "ticks": ""
           },
           "bgcolor": "#E5ECF6",
           "caxis": {
            "gridcolor": "white",
            "linecolor": "white",
            "ticks": ""
           }
          },
          "title": {
           "x": 0.05
          },
          "xaxis": {
           "automargin": true,
           "gridcolor": "white",
           "linecolor": "white",
           "ticks": "",
           "title": {
            "standoff": 15
           },
           "zerolinecolor": "white",
           "zerolinewidth": 2
          },
          "yaxis": {
           "automargin": true,
           "gridcolor": "white",
           "linecolor": "white",
           "ticks": "",
           "title": {
            "standoff": 15
           },
           "zerolinecolor": "white",
           "zerolinewidth": 2
          }
         }
        }
       }
      }
     },
     "metadata": {},
     "output_type": "display_data"
    }
   ],
   "source": [
    "fig = px.scatter_3d(df, x='feature1', y='feature2', z='target')\n",
    "\n",
    "fig.show()"
   ]
  },
  {
   "cell_type": "code",
   "execution_count": 16,
   "metadata": {},
   "outputs": [],
   "source": [
    "from sklearn.model_selection import train_test_split\n",
    "X_train,X_test,y_train,y_test = train_test_split(X,y,test_size=0.2,random_state=3)"
   ]
  },
  {
   "cell_type": "code",
   "execution_count": 17,
   "metadata": {},
   "outputs": [
    {
     "data": {
      "text/html": [
       "<style>#sk-container-id-1 {color: black;background-color: white;}#sk-container-id-1 pre{padding: 0;}#sk-container-id-1 div.sk-toggleable {background-color: white;}#sk-container-id-1 label.sk-toggleable__label {cursor: pointer;display: block;width: 100%;margin-bottom: 0;padding: 0.3em;box-sizing: border-box;text-align: center;}#sk-container-id-1 label.sk-toggleable__label-arrow:before {content: \"▸\";float: left;margin-right: 0.25em;color: #696969;}#sk-container-id-1 label.sk-toggleable__label-arrow:hover:before {color: black;}#sk-container-id-1 div.sk-estimator:hover label.sk-toggleable__label-arrow:before {color: black;}#sk-container-id-1 div.sk-toggleable__content {max-height: 0;max-width: 0;overflow: hidden;text-align: left;background-color: #f0f8ff;}#sk-container-id-1 div.sk-toggleable__content pre {margin: 0.2em;color: black;border-radius: 0.25em;background-color: #f0f8ff;}#sk-container-id-1 input.sk-toggleable__control:checked~div.sk-toggleable__content {max-height: 200px;max-width: 100%;overflow: auto;}#sk-container-id-1 input.sk-toggleable__control:checked~label.sk-toggleable__label-arrow:before {content: \"▾\";}#sk-container-id-1 div.sk-estimator input.sk-toggleable__control:checked~label.sk-toggleable__label {background-color: #d4ebff;}#sk-container-id-1 div.sk-label input.sk-toggleable__control:checked~label.sk-toggleable__label {background-color: #d4ebff;}#sk-container-id-1 input.sk-hidden--visually {border: 0;clip: rect(1px 1px 1px 1px);clip: rect(1px, 1px, 1px, 1px);height: 1px;margin: -1px;overflow: hidden;padding: 0;position: absolute;width: 1px;}#sk-container-id-1 div.sk-estimator {font-family: monospace;background-color: #f0f8ff;border: 1px dotted black;border-radius: 0.25em;box-sizing: border-box;margin-bottom: 0.5em;}#sk-container-id-1 div.sk-estimator:hover {background-color: #d4ebff;}#sk-container-id-1 div.sk-parallel-item::after {content: \"\";width: 100%;border-bottom: 1px solid gray;flex-grow: 1;}#sk-container-id-1 div.sk-label:hover label.sk-toggleable__label {background-color: #d4ebff;}#sk-container-id-1 div.sk-serial::before {content: \"\";position: absolute;border-left: 1px solid gray;box-sizing: border-box;top: 0;bottom: 0;left: 50%;z-index: 0;}#sk-container-id-1 div.sk-serial {display: flex;flex-direction: column;align-items: center;background-color: white;padding-right: 0.2em;padding-left: 0.2em;position: relative;}#sk-container-id-1 div.sk-item {position: relative;z-index: 1;}#sk-container-id-1 div.sk-parallel {display: flex;align-items: stretch;justify-content: center;background-color: white;position: relative;}#sk-container-id-1 div.sk-item::before, #sk-container-id-1 div.sk-parallel-item::before {content: \"\";position: absolute;border-left: 1px solid gray;box-sizing: border-box;top: 0;bottom: 0;left: 50%;z-index: -1;}#sk-container-id-1 div.sk-parallel-item {display: flex;flex-direction: column;z-index: 1;position: relative;background-color: white;}#sk-container-id-1 div.sk-parallel-item:first-child::after {align-self: flex-end;width: 50%;}#sk-container-id-1 div.sk-parallel-item:last-child::after {align-self: flex-start;width: 50%;}#sk-container-id-1 div.sk-parallel-item:only-child::after {width: 0;}#sk-container-id-1 div.sk-dashed-wrapped {border: 1px dashed gray;margin: 0 0.4em 0.5em 0.4em;box-sizing: border-box;padding-bottom: 0.4em;background-color: white;}#sk-container-id-1 div.sk-label label {font-family: monospace;font-weight: bold;display: inline-block;line-height: 1.2em;}#sk-container-id-1 div.sk-label-container {text-align: center;}#sk-container-id-1 div.sk-container {/* jupyter's `normalize.less` sets `[hidden] { display: none; }` but bootstrap.min.css set `[hidden] { display: none !important; }` so we also need the `!important` here to be able to override the default hidden behavior on the sphinx rendered scikit-learn.org. See: https://github.com/scikit-learn/scikit-learn/issues/21755 */display: inline-block !important;position: relative;}#sk-container-id-1 div.sk-text-repr-fallback {display: none;}</style><div id=\"sk-container-id-1\" class=\"sk-top-container\"><div class=\"sk-text-repr-fallback\"><pre>LinearRegression()</pre><b>In a Jupyter environment, please rerun this cell to show the HTML representation or trust the notebook. <br />On GitHub, the HTML representation is unable to render, please try loading this page with nbviewer.org.</b></div><div class=\"sk-container\" hidden><div class=\"sk-item\"><div class=\"sk-estimator sk-toggleable\"><input class=\"sk-toggleable__control sk-hidden--visually\" id=\"sk-estimator-id-1\" type=\"checkbox\" checked><label for=\"sk-estimator-id-1\" class=\"sk-toggleable__label sk-toggleable__label-arrow\">LinearRegression</label><div class=\"sk-toggleable__content\"><pre>LinearRegression()</pre></div></div></div></div></div>"
      ],
      "text/plain": [
       "LinearRegression()"
      ]
     },
     "execution_count": 17,
     "metadata": {},
     "output_type": "execute_result"
    }
   ],
   "source": [
    "from sklearn.linear_model import LinearRegression\n",
    "lr = LinearRegression()\n",
    "lr.fit(X_train,y_train)"
   ]
  },
  {
   "cell_type": "code",
   "execution_count": 18,
   "metadata": {},
   "outputs": [],
   "source": [
    "y_pred = lr.predict(X_test)"
   ]
  },
  {
   "cell_type": "code",
   "execution_count": 19,
   "metadata": {},
   "outputs": [
    {
     "name": "stdout",
     "output_type": "stream",
     "text": [
      "MAE 39.9467422339877\n",
      "MSE 2211.3899275642534\n",
      "R2 score 0.36101781348957074\n"
     ]
    }
   ],
   "source": [
    "print(\"MAE\",mean_absolute_error(y_test,y_pred))\n",
    "print(\"MSE\",mean_squared_error(y_test,y_pred))\n",
    "print(\"R2 score\",r2_score(y_test,y_pred))"
   ]
  },
  {
   "cell_type": "code",
   "execution_count": 22,
   "metadata": {},
   "outputs": [],
   "source": [
    "x = np.linspace(-5, 5, 10)\n",
    "y = np.linspace(-5, 5, 10)\n",
    "xGrid, yGrid = np.meshgrid(y, x)\n",
    "\n",
    "final = np.vstack((xGrid.ravel().reshape(1,100), yGrid.ravel().reshape(1,100))).T\n",
    "z_final = lr.predict(final).reshape(10,10)\n",
    "z = z_final"
   ]
  },
  {
   "cell_type": "code",
   "execution_count": 23,
   "metadata": {},
   "outputs": [
    {
     "data": {
      "application/vnd.plotly.v1+json": {
       "config": {
        "plotlyServerURL": "https://plot.ly"
       },
       "data": [
        {
         "hovertemplate": "feature1=%{x}<br>feature2=%{y}<br>target=%{z}<extra></extra>",
         "legendgroup": "",
         "marker": {
          "color": "#636efa",
          "symbol": "circle"
         },
         "mode": "markers",
         "name": "",
         "scene": "scene",
         "showlegend": false,
         "type": "scatter3d",
         "x": [
          -1.5194915709612384,
          0.008655538985324297,
          -1.5993976021565515,
          0.7296848304003019,
          0.5242436426491096,
          0.6458243274051801,
          -0.42976344914434966,
          0.9910134298174671,
          -1.2152334860058585,
          -0.7214398779991776,
          -0.15174660427245096,
          -0.9795059478292099,
          -2.946616582820079,
          0.14887713656267199,
          -0.24666723914491007,
          -0.2399567990306336,
          -0.27768986237797794,
          -1.1094653689149698,
          -0.42297537286142184,
          -1.7803474041294285,
          0.9459368344369549,
          1.8552778182490954,
          -0.43711788640944127,
          0.25527418216546394,
          1.3849867912870086,
          -2.686691672812638,
          0.2264359402937315,
          -1.293696667107359,
          2.2019390198493447,
          0.09933309073847625,
          0.8498008240115805,
          0.4852015230891052,
          0.11046659741943889,
          -0.532907920387049,
          -0.24684348500114883,
          0.6227403427218614,
          0.51897192659506,
          0.6001601665343896,
          0.968499958826542,
          1.0592118014585572,
          -0.6022388503691376,
          1.351725621161631,
          -0.1292845217551093,
          0.10555602708193998,
          3.1630487200034247,
          0.4021725922579583,
          0.5834284512309332,
          0.5354515311760859,
          -0.6316273768487356,
          0.7078043318805676,
          1.6308762997785382,
          1.3590336021962897,
          0.39628663814615883,
          1.895285347721192,
          0.4828926880946008,
          -0.8005441337124867,
          0.2871061890712906,
          -0.6477486595828248,
          0.8190523443566321,
          0.46965567614788745,
          -1.502154390454379,
          0.22750174721498534,
          0.9520291096657811,
          1.1255454292619156,
          -0.172882745639426,
          -0.6576439606673069,
          0.3404735053735641,
          -0.08166914846352086,
          -0.3246697296459719,
          -0.17792668985520171,
          -1.766075042905717,
          -0.2299755250831665,
          0.11674855767243668,
          -1.8673167036607061,
          -0.5619867322244539,
          -0.30602270205244536,
          -1.1670640173003282,
          0.4326557540985538,
          -0.5903213646645129,
          0.7312323134978954,
          1.0193370953987873,
          0.8321836351923341,
          0.3230966196777946,
          0.4166345939445917,
          -0.026662427867566597,
          0.08563727856750745,
          0.6849533010733467,
          -2.8508013481924586,
          0.4500198663658093,
          1.0937508943179608,
          -1.200682546106535,
          0.9206667750845277,
          0.602385794858407,
          -0.7071416955417257,
          -0.3437745325883206,
          -0.07437997392264238,
          0.10779015967757273,
          0.3358706286371951,
          -1.5266975560000706,
          0.03354956565091422
         ],
         "y": [
          -0.9884701817559793,
          0.6187962845992262,
          -0.510874407923831,
          0.4932924714143353,
          -0.12462297113473374,
          1.909642853580862,
          0.22738690462346828,
          -0.7238218072021858,
          1.265799407858983,
          0.49690128990352,
          1.5635244528615255,
          -1.836776918117246,
          0.2565643976025364,
          0.20005566253059323,
          0.09376601835892308,
          0.19259868253866938,
          -1.6977909767108252,
          0.7712560571519923,
          0.8856004645932177,
          0.13856749861470757,
          0.44868769470715286,
          -0.2525131179902515,
          -0.18660874507106198,
          0.4000929842865177,
          2.3885406707206647,
          -0.13781347049529608,
          -1.817781109277948,
          -0.7849641254260002,
          0.8194705905510554,
          0.6234747490526814,
          0.8835445855787462,
          1.2789482041147198,
          -0.002778609711325999,
          0.42514769255035023,
          2.806634266971469,
          2.163001901862094,
          1.1620981896685403,
          0.36360204735493507,
          -0.7497590419035368,
          -0.6629235308638327,
          -0.6497321491286205,
          0.6157221935325179,
          -1.457960134209017,
          0.6254088901652679,
          -1.000941882156593,
          -0.20026940549188693,
          -0.09658023566407099,
          0.5295710731589878,
          0.5834894887330907,
          -1.5542570611411106,
          -0.3048671743657679,
          -1.216033173041617,
          1.508323991256542,
          1.8031250775826078,
          1.192036555086815,
          -0.22836236130071086,
          0.7120991253209897,
          0.6367835592704404,
          -1.2768705200104986,
          -0.46138216144174926,
          -0.14622016208523891,
          -0.5182328795670211,
          -0.27205122971132034,
          0.4591590317767521,
          0.27450374099532326,
          0.34843498504160436,
          -0.5945140833903604,
          0.31182968929575583,
          -0.6551788571787519,
          -0.8692819069086984,
          -0.11791145542757801,
          1.1601223144818094,
          -0.8710654692918448,
          0.14751272224292292,
          0.5834217687047955,
          -0.716911617983807,
          0.11006495297606964,
          -1.9086714467512895,
          -2.002525285668167,
          -1.1149157942178836,
          -0.3551462095146074,
          -0.6059977937571142,
          0.5346337454423058,
          1.1572376723710291,
          0.6382144184628049,
          0.36663398317031537,
          -0.5497024489908348,
          0.22939784339217004,
          0.8879231045819242,
          0.000029802786482525658,
          -1.0817273155537475,
          -0.10237766091216458,
          -1.0770077224723311,
          0.9603869253445452,
          1.5325342490700375,
          -0.4258564238296281,
          0.7809384533071998,
          0.7987885118994392,
          0.4194667211122175,
          0.1272615462545256
         ],
         "z": [
          -68.74897848218188,
          -11.072260784619132,
          -94.06432616454677,
          -26.37452408733091,
          35.23752725840088,
          121.33118656815155,
          1.395616188717268,
          52.650845549679886,
          0.610449989223266,
          -40.496144321286025,
          -87.62814969957243,
          -157.23700737781627,
          -71.81193316806899,
          -38.57919920627117,
          -120.85507722783834,
          72.14787884166319,
          -60.19742879150098,
          -17.533216023339193,
          -64.408236688812,
          14.036732300703946,
          29.670561558128444,
          -83.92029327240267,
          -20.131975733345335,
          -47.745108752161435,
          80.80412358408566,
          -129.45818992581076,
          138.40650369669862,
          -9.314002923428571,
          96.99346416473304,
          27.388096298265403,
          45.642156734914884,
          62.2427650459078,
          -9.701368718300538,
          -122.26976647193784,
          101.39636789097938,
          117.98132910364077,
          4.150454450948537,
          92.45774769596247,
          125.99407760434357,
          4.58525344631288,
          -70.73460643109891,
          35.16437119467957,
          -96.78228408465169,
          8.87310010279537,
          12.166688724285365,
          -33.0510717396846,
          -59.095933939770404,
          -3.8909238966476067,
          -8.904072157867926,
          22.74264752207132,
          85.66058909303462,
          -76.12532632432223,
          16.339961248269933,
          132.70646928872787,
          -60.63483427229308,
          -87.20945368085147,
          -45.14495941907778,
          -1.7003767149836575,
          -33.535470212752216,
          -13.13141135155808,
          -72.50470833709286,
          -37.208352398856235,
          -10.771478315837047,
          -21.369350602800314,
          -1.3550534026354448,
          21.355502776063265,
          37.901649635136216,
          -5.076528950685933,
          -13.235357525820564,
          -63.60155188185399,
          -57.997696239710415,
          48.11461961796658,
          81.23495265564961,
          -87.92911306635023,
          -10.646659161131659,
          -50.15034880839436,
          -12.606616569636603,
          64.03178603164366,
          -52.88165752001715,
          -55.45725447152452,
          33.04086928284745,
          -35.26345280411051,
          -27.068266950021126,
          -15.450183348411336,
          -40.47491502349756,
          -78.04438683631605,
          9.143986111538942,
          -47.54985381628158,
          87.57006528522155,
          14.44856646140882,
          30.293293152366005,
          62.6315748098467,
          -4.6164555946386665,
          26.450192312464154,
          35.1839031022603,
          -45.82334608263296,
          66.47699463902572,
          56.14106170800011,
          -68.10082362773136,
          -120.99972452595127
         ]
        },
        {
         "type": "surface",
         "x": [
          -5,
          -3.888888888888889,
          -2.7777777777777777,
          -1.6666666666666665,
          -0.5555555555555554,
          0.5555555555555554,
          1.666666666666667,
          2.7777777777777786,
          3.8888888888888893,
          5
         ],
         "y": [
          -5,
          -3.888888888888889,
          -2.7777777777777777,
          -1.6666666666666665,
          -0.5555555555555554,
          0.5555555555555554,
          1.666666666666667,
          2.7777777777777786,
          3.8888888888888893,
          5
         ],
         "z": [
          [
           -224.52440959023835,
           -195.59619409918594,
           -166.66797860813352,
           -137.73976311708108,
           -108.81154762602868,
           -79.88333213497629,
           -50.95511664392385,
           -22.02690115287143,
           6.901314338180969,
           35.82952982923339
          ],
          [
           -205.95733307157894,
           -177.02911758052653,
           -148.10090208947412,
           -119.17268659842169,
           -90.24447110736928,
           -61.316255616316866,
           -32.388040125264446,
           -3.4598246342120262,
           25.468390856840372,
           54.39660634789279
          ],
          [
           -187.39025655291954,
           -158.46204106186713,
           -129.53382557081468,
           -100.60561007976229,
           -71.67739458870987,
           -42.74917909765747,
           -13.820963606605043,
           15.107251884447377,
           44.03546737549978,
           72.96368286655219
          ],
          [
           -168.82318003426013,
           -139.89496454320772,
           -110.96674905215531,
           -82.03853356110288,
           -53.11031807005046,
           -24.182102578998062,
           4.746112912054361,
           33.674328403106784,
           62.602543894159176,
           91.53075938521158
          ],
          [
           -150.25610351560073,
           -121.32788802454832,
           -92.3996725334959,
           -63.47145704244347,
           -34.54324155139106,
           -5.61502606033866,
           23.31318943071377,
           52.24140492176619,
           81.16962041281857,
           110.09783590387099
          ],
          [
           -131.68902699694132,
           -102.76081150588891,
           -73.8325960148365,
           -44.90438052378408,
           -15.976165032731664,
           12.952050458320736,
           41.88026594937316,
           70.80848144042558,
           99.73669693147798,
           128.6649124225304
          ],
          [
           -113.12195047828192,
           -84.1937349872295,
           -55.265519496177085,
           -26.337304005124665,
           2.5909114859277462,
           31.519126976980147,
           60.44734246803258,
           89.37555795908499,
           118.30377345013738,
           147.2319889411898
          ],
          [
           -94.5548739596225,
           -65.62665846857008,
           -36.69844297751767,
           -7.770227486465254,
           21.15798800458716,
           50.08620349563956,
           79.01441898669198,
           107.9426344777444,
           136.8708499687968,
           165.7990654598492
          ],
          [
           -75.9877974409631,
           -47.05958194991069,
           -18.131366458858277,
           10.796849032194144,
           39.72506452324656,
           68.65328001429896,
           97.58149550535137,
           126.50971099640378,
           155.4379264874562,
           184.3661419785086
          ],
          [
           -57.42072092230371,
           -28.492505431251296,
           0.435710059801119,
           29.363925550853544,
           58.29214104190596,
           87.22035653295835,
           116.14857202401078,
           145.0767875150632,
           174.0050030061156,
           202.933218497168
          ]
         ]
        }
       ],
       "layout": {
        "legend": {
         "tracegroupgap": 0
        },
        "margin": {
         "t": 60
        },
        "scene": {
         "domain": {
          "x": [
           0,
           1
          ],
          "y": [
           0,
           1
          ]
         },
         "xaxis": {
          "title": {
           "text": "feature1"
          }
         },
         "yaxis": {
          "title": {
           "text": "feature2"
          }
         },
         "zaxis": {
          "title": {
           "text": "target"
          }
         }
        },
        "template": {
         "data": {
          "bar": [
           {
            "error_x": {
             "color": "#2a3f5f"
            },
            "error_y": {
             "color": "#2a3f5f"
            },
            "marker": {
             "line": {
              "color": "#E5ECF6",
              "width": 0.5
             },
             "pattern": {
              "fillmode": "overlay",
              "size": 10,
              "solidity": 0.2
             }
            },
            "type": "bar"
           }
          ],
          "barpolar": [
           {
            "marker": {
             "line": {
              "color": "#E5ECF6",
              "width": 0.5
             },
             "pattern": {
              "fillmode": "overlay",
              "size": 10,
              "solidity": 0.2
             }
            },
            "type": "barpolar"
           }
          ],
          "carpet": [
           {
            "aaxis": {
             "endlinecolor": "#2a3f5f",
             "gridcolor": "white",
             "linecolor": "white",
             "minorgridcolor": "white",
             "startlinecolor": "#2a3f5f"
            },
            "baxis": {
             "endlinecolor": "#2a3f5f",
             "gridcolor": "white",
             "linecolor": "white",
             "minorgridcolor": "white",
             "startlinecolor": "#2a3f5f"
            },
            "type": "carpet"
           }
          ],
          "choropleth": [
           {
            "colorbar": {
             "outlinewidth": 0,
             "ticks": ""
            },
            "type": "choropleth"
           }
          ],
          "contour": [
           {
            "colorbar": {
             "outlinewidth": 0,
             "ticks": ""
            },
            "colorscale": [
             [
              0,
              "#0d0887"
             ],
             [
              0.1111111111111111,
              "#46039f"
             ],
             [
              0.2222222222222222,
              "#7201a8"
             ],
             [
              0.3333333333333333,
              "#9c179e"
             ],
             [
              0.4444444444444444,
              "#bd3786"
             ],
             [
              0.5555555555555556,
              "#d8576b"
             ],
             [
              0.6666666666666666,
              "#ed7953"
             ],
             [
              0.7777777777777778,
              "#fb9f3a"
             ],
             [
              0.8888888888888888,
              "#fdca26"
             ],
             [
              1,
              "#f0f921"
             ]
            ],
            "type": "contour"
           }
          ],
          "contourcarpet": [
           {
            "colorbar": {
             "outlinewidth": 0,
             "ticks": ""
            },
            "type": "contourcarpet"
           }
          ],
          "heatmap": [
           {
            "colorbar": {
             "outlinewidth": 0,
             "ticks": ""
            },
            "colorscale": [
             [
              0,
              "#0d0887"
             ],
             [
              0.1111111111111111,
              "#46039f"
             ],
             [
              0.2222222222222222,
              "#7201a8"
             ],
             [
              0.3333333333333333,
              "#9c179e"
             ],
             [
              0.4444444444444444,
              "#bd3786"
             ],
             [
              0.5555555555555556,
              "#d8576b"
             ],
             [
              0.6666666666666666,
              "#ed7953"
             ],
             [
              0.7777777777777778,
              "#fb9f3a"
             ],
             [
              0.8888888888888888,
              "#fdca26"
             ],
             [
              1,
              "#f0f921"
             ]
            ],
            "type": "heatmap"
           }
          ],
          "heatmapgl": [
           {
            "colorbar": {
             "outlinewidth": 0,
             "ticks": ""
            },
            "colorscale": [
             [
              0,
              "#0d0887"
             ],
             [
              0.1111111111111111,
              "#46039f"
             ],
             [
              0.2222222222222222,
              "#7201a8"
             ],
             [
              0.3333333333333333,
              "#9c179e"
             ],
             [
              0.4444444444444444,
              "#bd3786"
             ],
             [
              0.5555555555555556,
              "#d8576b"
             ],
             [
              0.6666666666666666,
              "#ed7953"
             ],
             [
              0.7777777777777778,
              "#fb9f3a"
             ],
             [
              0.8888888888888888,
              "#fdca26"
             ],
             [
              1,
              "#f0f921"
             ]
            ],
            "type": "heatmapgl"
           }
          ],
          "histogram": [
           {
            "marker": {
             "pattern": {
              "fillmode": "overlay",
              "size": 10,
              "solidity": 0.2
             }
            },
            "type": "histogram"
           }
          ],
          "histogram2d": [
           {
            "colorbar": {
             "outlinewidth": 0,
             "ticks": ""
            },
            "colorscale": [
             [
              0,
              "#0d0887"
             ],
             [
              0.1111111111111111,
              "#46039f"
             ],
             [
              0.2222222222222222,
              "#7201a8"
             ],
             [
              0.3333333333333333,
              "#9c179e"
             ],
             [
              0.4444444444444444,
              "#bd3786"
             ],
             [
              0.5555555555555556,
              "#d8576b"
             ],
             [
              0.6666666666666666,
              "#ed7953"
             ],
             [
              0.7777777777777778,
              "#fb9f3a"
             ],
             [
              0.8888888888888888,
              "#fdca26"
             ],
             [
              1,
              "#f0f921"
             ]
            ],
            "type": "histogram2d"
           }
          ],
          "histogram2dcontour": [
           {
            "colorbar": {
             "outlinewidth": 0,
             "ticks": ""
            },
            "colorscale": [
             [
              0,
              "#0d0887"
             ],
             [
              0.1111111111111111,
              "#46039f"
             ],
             [
              0.2222222222222222,
              "#7201a8"
             ],
             [
              0.3333333333333333,
              "#9c179e"
             ],
             [
              0.4444444444444444,
              "#bd3786"
             ],
             [
              0.5555555555555556,
              "#d8576b"
             ],
             [
              0.6666666666666666,
              "#ed7953"
             ],
             [
              0.7777777777777778,
              "#fb9f3a"
             ],
             [
              0.8888888888888888,
              "#fdca26"
             ],
             [
              1,
              "#f0f921"
             ]
            ],
            "type": "histogram2dcontour"
           }
          ],
          "mesh3d": [
           {
            "colorbar": {
             "outlinewidth": 0,
             "ticks": ""
            },
            "type": "mesh3d"
           }
          ],
          "parcoords": [
           {
            "line": {
             "colorbar": {
              "outlinewidth": 0,
              "ticks": ""
             }
            },
            "type": "parcoords"
           }
          ],
          "pie": [
           {
            "automargin": true,
            "type": "pie"
           }
          ],
          "scatter": [
           {
            "fillpattern": {
             "fillmode": "overlay",
             "size": 10,
             "solidity": 0.2
            },
            "type": "scatter"
           }
          ],
          "scatter3d": [
           {
            "line": {
             "colorbar": {
              "outlinewidth": 0,
              "ticks": ""
             }
            },
            "marker": {
             "colorbar": {
              "outlinewidth": 0,
              "ticks": ""
             }
            },
            "type": "scatter3d"
           }
          ],
          "scattercarpet": [
           {
            "marker": {
             "colorbar": {
              "outlinewidth": 0,
              "ticks": ""
             }
            },
            "type": "scattercarpet"
           }
          ],
          "scattergeo": [
           {
            "marker": {
             "colorbar": {
              "outlinewidth": 0,
              "ticks": ""
             }
            },
            "type": "scattergeo"
           }
          ],
          "scattergl": [
           {
            "marker": {
             "colorbar": {
              "outlinewidth": 0,
              "ticks": ""
             }
            },
            "type": "scattergl"
           }
          ],
          "scattermapbox": [
           {
            "marker": {
             "colorbar": {
              "outlinewidth": 0,
              "ticks": ""
             }
            },
            "type": "scattermapbox"
           }
          ],
          "scatterpolar": [
           {
            "marker": {
             "colorbar": {
              "outlinewidth": 0,
              "ticks": ""
             }
            },
            "type": "scatterpolar"
           }
          ],
          "scatterpolargl": [
           {
            "marker": {
             "colorbar": {
              "outlinewidth": 0,
              "ticks": ""
             }
            },
            "type": "scatterpolargl"
           }
          ],
          "scatterternary": [
           {
            "marker": {
             "colorbar": {
              "outlinewidth": 0,
              "ticks": ""
             }
            },
            "type": "scatterternary"
           }
          ],
          "surface": [
           {
            "colorbar": {
             "outlinewidth": 0,
             "ticks": ""
            },
            "colorscale": [
             [
              0,
              "#0d0887"
             ],
             [
              0.1111111111111111,
              "#46039f"
             ],
             [
              0.2222222222222222,
              "#7201a8"
             ],
             [
              0.3333333333333333,
              "#9c179e"
             ],
             [
              0.4444444444444444,
              "#bd3786"
             ],
             [
              0.5555555555555556,
              "#d8576b"
             ],
             [
              0.6666666666666666,
              "#ed7953"
             ],
             [
              0.7777777777777778,
              "#fb9f3a"
             ],
             [
              0.8888888888888888,
              "#fdca26"
             ],
             [
              1,
              "#f0f921"
             ]
            ],
            "type": "surface"
           }
          ],
          "table": [
           {
            "cells": {
             "fill": {
              "color": "#EBF0F8"
             },
             "line": {
              "color": "white"
             }
            },
            "header": {
             "fill": {
              "color": "#C8D4E3"
             },
             "line": {
              "color": "white"
             }
            },
            "type": "table"
           }
          ]
         },
         "layout": {
          "annotationdefaults": {
           "arrowcolor": "#2a3f5f",
           "arrowhead": 0,
           "arrowwidth": 1
          },
          "autotypenumbers": "strict",
          "coloraxis": {
           "colorbar": {
            "outlinewidth": 0,
            "ticks": ""
           }
          },
          "colorscale": {
           "diverging": [
            [
             0,
             "#8e0152"
            ],
            [
             0.1,
             "#c51b7d"
            ],
            [
             0.2,
             "#de77ae"
            ],
            [
             0.3,
             "#f1b6da"
            ],
            [
             0.4,
             "#fde0ef"
            ],
            [
             0.5,
             "#f7f7f7"
            ],
            [
             0.6,
             "#e6f5d0"
            ],
            [
             0.7,
             "#b8e186"
            ],
            [
             0.8,
             "#7fbc41"
            ],
            [
             0.9,
             "#4d9221"
            ],
            [
             1,
             "#276419"
            ]
           ],
           "sequential": [
            [
             0,
             "#0d0887"
            ],
            [
             0.1111111111111111,
             "#46039f"
            ],
            [
             0.2222222222222222,
             "#7201a8"
            ],
            [
             0.3333333333333333,
             "#9c179e"
            ],
            [
             0.4444444444444444,
             "#bd3786"
            ],
            [
             0.5555555555555556,
             "#d8576b"
            ],
            [
             0.6666666666666666,
             "#ed7953"
            ],
            [
             0.7777777777777778,
             "#fb9f3a"
            ],
            [
             0.8888888888888888,
             "#fdca26"
            ],
            [
             1,
             "#f0f921"
            ]
           ],
           "sequentialminus": [
            [
             0,
             "#0d0887"
            ],
            [
             0.1111111111111111,
             "#46039f"
            ],
            [
             0.2222222222222222,
             "#7201a8"
            ],
            [
             0.3333333333333333,
             "#9c179e"
            ],
            [
             0.4444444444444444,
             "#bd3786"
            ],
            [
             0.5555555555555556,
             "#d8576b"
            ],
            [
             0.6666666666666666,
             "#ed7953"
            ],
            [
             0.7777777777777778,
             "#fb9f3a"
            ],
            [
             0.8888888888888888,
             "#fdca26"
            ],
            [
             1,
             "#f0f921"
            ]
           ]
          },
          "colorway": [
           "#636efa",
           "#EF553B",
           "#00cc96",
           "#ab63fa",
           "#FFA15A",
           "#19d3f3",
           "#FF6692",
           "#B6E880",
           "#FF97FF",
           "#FECB52"
          ],
          "font": {
           "color": "#2a3f5f"
          },
          "geo": {
           "bgcolor": "white",
           "lakecolor": "white",
           "landcolor": "#E5ECF6",
           "showlakes": true,
           "showland": true,
           "subunitcolor": "white"
          },
          "hoverlabel": {
           "align": "left"
          },
          "hovermode": "closest",
          "mapbox": {
           "style": "light"
          },
          "paper_bgcolor": "white",
          "plot_bgcolor": "#E5ECF6",
          "polar": {
           "angularaxis": {
            "gridcolor": "white",
            "linecolor": "white",
            "ticks": ""
           },
           "bgcolor": "#E5ECF6",
           "radialaxis": {
            "gridcolor": "white",
            "linecolor": "white",
            "ticks": ""
           }
          },
          "scene": {
           "xaxis": {
            "backgroundcolor": "#E5ECF6",
            "gridcolor": "white",
            "gridwidth": 2,
            "linecolor": "white",
            "showbackground": true,
            "ticks": "",
            "zerolinecolor": "white"
           },
           "yaxis": {
            "backgroundcolor": "#E5ECF6",
            "gridcolor": "white",
            "gridwidth": 2,
            "linecolor": "white",
            "showbackground": true,
            "ticks": "",
            "zerolinecolor": "white"
           },
           "zaxis": {
            "backgroundcolor": "#E5ECF6",
            "gridcolor": "white",
            "gridwidth": 2,
            "linecolor": "white",
            "showbackground": true,
            "ticks": "",
            "zerolinecolor": "white"
           }
          },
          "shapedefaults": {
           "line": {
            "color": "#2a3f5f"
           }
          },
          "ternary": {
           "aaxis": {
            "gridcolor": "white",
            "linecolor": "white",
            "ticks": ""
           },
           "baxis": {
            "gridcolor": "white",
            "linecolor": "white",
            "ticks": ""
           },
           "bgcolor": "#E5ECF6",
           "caxis": {
            "gridcolor": "white",
            "linecolor": "white",
            "ticks": ""
           }
          },
          "title": {
           "x": 0.05
          },
          "xaxis": {
           "automargin": true,
           "gridcolor": "white",
           "linecolor": "white",
           "ticks": "",
           "title": {
            "standoff": 15
           },
           "zerolinecolor": "white",
           "zerolinewidth": 2
          },
          "yaxis": {
           "automargin": true,
           "gridcolor": "white",
           "linecolor": "white",
           "ticks": "",
           "title": {
            "standoff": 15
           },
           "zerolinecolor": "white",
           "zerolinewidth": 2
          }
         }
        }
       }
      }
     },
     "metadata": {},
     "output_type": "display_data"
    }
   ],
   "source": [
    "fit = px.scatter_3d(df, x='feature1', y='feature2', z='target')\n",
    "fig.add_trace(go.Surface(x=x, y=y, z=z))\n",
    "fig.show()"
   ]
  },
  {
   "cell_type": "code",
   "execution_count": 24,
   "metadata": {},
   "outputs": [
    {
     "data": {
      "text/plain": [
       "array([26.03539394, 16.71036887])"
      ]
     },
     "execution_count": 24,
     "metadata": {},
     "output_type": "execute_result"
    }
   ],
   "source": [
    "lr.coef_"
   ]
  },
  {
   "cell_type": "code",
   "execution_count": 25,
   "metadata": {},
   "outputs": [
    {
     "data": {
      "text/plain": [
       "-10.795595546535163"
      ]
     },
     "execution_count": 25,
     "metadata": {},
     "output_type": "execute_result"
    }
   ],
   "source": [
    "lr.intercept_"
   ]
  },
  {
   "cell_type": "code",
   "execution_count": null,
   "metadata": {},
   "outputs": [],
   "source": []
  }
 ],
 "metadata": {
  "kernelspec": {
   "display_name": "base",
   "language": "python",
   "name": "python3"
  },
  "language_info": {
   "codemirror_mode": {
    "name": "ipython",
    "version": 3
   },
   "file_extension": ".py",
   "mimetype": "text/x-python",
   "name": "python",
   "nbconvert_exporter": "python",
   "pygments_lexer": "ipython3",
   "version": "3.11.7"
  }
 },
 "nbformat": 4,
 "nbformat_minor": 2
}
